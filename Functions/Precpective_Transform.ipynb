{
 "cells": [
  {
   "cell_type": "code",
   "execution_count": 28,
   "metadata": {},
   "outputs": [
    {
     "name": "stdout",
     "output_type": "stream",
     "text": [
      "The autoreload extension is already loaded. To reload it, use:\n",
      "  %reload_ext autoreload\n"
     ]
    },
    {
     "data": {
      "text/plain": [
       "-1"
      ]
     },
     "execution_count": 28,
     "metadata": {},
     "output_type": "execute_result"
    }
   ],
   "source": [
    "import cv2\n",
    "import numpy as np\n",
    "from commonfunctions import *\n",
    "%matplotlib inline\n",
    "%load_ext autoreload\n",
    "%autoreload 2\n",
    "\n",
    "define perspective_transformation(img,tl,bl,tr,br):\n",
    "\n",
    "    frame = cv2.resize(img,(640,480))\n",
    "\n",
    "    #corner Points (needs to be put manualy)\n",
    "\n",
    "    tl= (280,220) #Top Left\n",
    "    bl=(70,360)   #Bottom Left\n",
    "    tr=(370,220)  #Top Right\n",
    "    br=(538,340)  #Bottom Right\n",
    "\n",
    "    cv2.circle(frame, tl, 5 , (0,0,255),-1)\n",
    "    cv2.circle(frame, bl, 5 , (0,0,255),-1)\n",
    "    cv2.circle(frame, tr, 5 , (0,0,255),-1)\n",
    "    cv2.circle(frame, br, 5 , (0,0,255),-1)\n",
    "\n",
    "\n",
    "    pt1=np.float32([tl,bl,tr,br])                       #Source Points\n",
    "    pt2=np.float32([[0,0],[0,480],[640,0],[640,480]])   #Destination Points\n",
    "\n",
    "    #Perspective Transformation\n",
    "    matrix= (cv2.getPerspectiveTransform(pt1,pt2)) \n",
    "    transformed_frame= cv2.warpPerspective(frame, matrix,(640,480))\n",
    "\n",
    "    #Inverse Perspective Transformation\n",
    "    matrix2= np.linalg.inv(matrix)\n",
    "    inverted_transformed_frame= cv2.warpPerspective(transformed_frame,matrix2,(640,480))\n",
    "\n",
    "return transformed_frame, inverted_transformed_frame\n",
    "\n",
    "    #cv2.imshow(\"transformed frame\",transformed_frame)\n",
    "    #cv2.imshow(\"frame\",frame)\n",
    "    #cv2.imshow(\"inverted tranformation\",inverted_transformed_frame)\n",
    "    #cv2.waitKey(0)\n",
    "\n",
    "\n",
    "\n"
   ]
  },
  {
   "cell_type": "code",
   "execution_count": null,
   "metadata": {},
   "outputs": [],
   "source": [
    "\n"
   ]
  }
 ],
 "metadata": {
  "kernelspec": {
   "display_name": "base",
   "language": "python",
   "name": "python3"
  },
  "language_info": {
   "codemirror_mode": {
    "name": "ipython",
    "version": 3
   },
   "file_extension": ".py",
   "mimetype": "text/x-python",
   "name": "python",
   "nbconvert_exporter": "python",
   "pygments_lexer": "ipython3",
   "version": "3.11.5"
  }
 },
 "nbformat": 4,
 "nbformat_minor": 2
}
