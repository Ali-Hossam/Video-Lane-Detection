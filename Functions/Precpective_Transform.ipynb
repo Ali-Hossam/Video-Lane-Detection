{
 "cells": [
  {
   "cell_type": "code",
   "execution_count": 72,
   "metadata": {},
   "outputs": [
    {
     "name": "stdout",
     "output_type": "stream",
     "text": [
      "The autoreload extension is already loaded. To reload it, use:\n",
      "  %reload_ext autoreload\n"
     ]
    }
   ],
   "source": [
    "import cv2\n",
    "import numpy as np\n",
    "from commonfunctions import *\n",
    "%matplotlib inline\n",
    "%load_ext autoreload\n",
    "%autoreload 2\n",
    "\n",
    "def perspective_transformation(img,tl,bl,tr,br):\n",
    "    \n",
    "    #frame = cv2.resize(img,(640,480))\n",
    "    \n",
    "    frame = img\n",
    "    h,w,c = frame.shape\n",
    "\n",
    "    cv2.circle(frame, tl, 5 , (0,0,255),-1)\n",
    "    cv2.circle(frame, bl, 5 , (0,0,255),-1)\n",
    "    cv2.circle(frame, tr, 5 , (0,0,255),-1)\n",
    "    cv2.circle(frame, br, 5 , (0,0,255),-1)\n",
    "\n",
    "\n",
    "    pt1=np.float32([tl,bl,tr,br])               #Source Points\n",
    "    pt2=np.float32([[0,0],[0,h],[w,0],[w,h]])   #Destination Points\n",
    "\n",
    "    #Perspective Transformation\n",
    "    matrix= (cv2.getPerspectiveTransform(pt1,pt2)) \n",
    "    transformed_frame= cv2.warpPerspective(frame, matrix,(w,h))\n",
    "\n",
    "    #Inverse Perspective Transformation\n",
    "    matrix2= np.linalg.inv(matrix)\n",
    "    inverted_transformed_frame= cv2.warpPerspective(transformed_frame,matrix2,(w,h))\n",
    "\n",
    "    return transformed_frame, inverted_transformed_frame, frame"
   ]
  },
  {
   "cell_type": "code",
   "execution_count": 79,
   "metadata": {},
   "outputs": [
    {
     "data": {
      "text/plain": [
       "-1"
      ]
     },
     "execution_count": 79,
     "metadata": {},
     "output_type": "execute_result"
    }
   ],
   "source": [
    "\n",
    "\n",
    "img = io.imread(r'C:\\Users\\USER\\Documents\\GitHub\\LaneDetection\\images\\img.jpg')\n",
    "h, w, c =img.shape\n",
    "\n",
    "#Points with Resize\n",
    "\n",
    "tl= (260,220)  #Top Left\n",
    "bl=(180,360)   #Bottom Left\n",
    "tr=(370,220)   #Top Right\n",
    "br=(400,340)   #Bottom Right\n",
    "\n",
    "#Points without Resize\n",
    "\n",
    "tl= (550,90)    #Top Left\n",
    "bl=(320,h-10)   #Bottom Left\n",
    "tr=(700,90)     #Top Right\n",
    "br=(880,h-10)   #Bottom Right\n",
    "\n",
    "#for road3.jpg\n",
    "\n",
    "# tl= (230,200) #Top Left\n",
    "# bl=(80,280)   #Bottom Left\n",
    "# tr=(420,200)  #Top Right\n",
    "# br=(570,280)  #Bottom Right\n",
    "\n",
    "\n",
    "transformed_frame, inverted_transformed_frame, frame = perspective_transformation(img,tl,bl,tr,br)\n",
    "\n",
    "\n",
    "\n",
    "cv2.imshow(\"transformed frame\",transformed_frame)\n",
    "cv2.imshow(\"frame\",frame)\n",
    "cv2.imshow(\"inverted tranformation\",inverted_transformed_frame)\n",
    "cv2.waitKey(0)\n",
    "\n",
    "#io.imshow(frame)"
   ]
  }
 ],
 "metadata": {
  "kernelspec": {
   "display_name": "base",
   "language": "python",
   "name": "python3"
  },
  "language_info": {
   "codemirror_mode": {
    "name": "ipython",
    "version": 3
   },
   "file_extension": ".py",
   "mimetype": "text/x-python",
   "name": "python",
   "nbconvert_exporter": "python",
   "pygments_lexer": "ipython3",
   "version": "3.11.5"
  }
 },
 "nbformat": 4,
 "nbformat_minor": 2
}
