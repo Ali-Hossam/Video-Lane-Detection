{
 "cells": [
  {
   "cell_type": "code",
   "execution_count": 7,
   "metadata": {},
   "outputs": [],
   "source": [
    "from skimage.color import rgb2gray\n",
    "import skimage.io as io\n",
    "import numpy as np\n",
    "import cv2 as cv2\n"
   ]
  },
  {
   "cell_type": "code",
   "execution_count": 2,
   "metadata": {},
   "outputs": [
    {
     "ename": "error",
     "evalue": "OpenCV(4.8.1) D:\\a\\opencv-python\\opencv-python\\opencv\\modules\\imgproc\\src\\resize.cpp:4062: error: (-215:Assertion failed) !ssize.empty() in function 'cv::resize'\n",
     "output_type": "error",
     "traceback": [
      "\u001b[1;31m---------------------------------------------------------------------------\u001b[0m",
      "\u001b[1;31merror\u001b[0m                                     Traceback (most recent call last)",
      "Cell \u001b[1;32mIn[2], line 18\u001b[0m\n\u001b[0;32m     16\u001b[0m \u001b[38;5;28;01mwhile\u001b[39;00m success:\n\u001b[0;32m     17\u001b[0m     success, image \u001b[38;5;241m=\u001b[39m vidcap\u001b[38;5;241m.\u001b[39mread()\n\u001b[1;32m---> 18\u001b[0m     frame \u001b[38;5;241m=\u001b[39m \u001b[43mcv2\u001b[49m\u001b[38;5;241;43m.\u001b[39;49m\u001b[43mresize\u001b[49m\u001b[43m(\u001b[49m\u001b[43mimage\u001b[49m\u001b[43m,\u001b[49m\u001b[43m(\u001b[49m\u001b[38;5;241;43m640\u001b[39;49m\u001b[43m,\u001b[49m\u001b[38;5;241;43m480\u001b[39;49m\u001b[43m)\u001b[49m\u001b[43m)\u001b[49m\n\u001b[0;32m     20\u001b[0m     \u001b[38;5;66;03m## Choosing points for perspective transformation\u001b[39;00m\n\u001b[0;32m     21\u001b[0m     tl \u001b[38;5;241m=\u001b[39m (\u001b[38;5;241m222\u001b[39m,\u001b[38;5;241m387\u001b[39m)\n",
      "\u001b[1;31merror\u001b[0m: OpenCV(4.8.1) D:\\a\\opencv-python\\opencv-python\\opencv\\modules\\imgproc\\src\\resize.cpp:4062: error: (-215:Assertion failed) !ssize.empty() in function 'cv::resize'\n"
     ]
    },
    {
     "ename": "",
     "evalue": "",
     "output_type": "error",
     "traceback": [
      "\u001b[1;31mThe Kernel crashed while executing code in the the current cell or a previous cell. Please review the code in the cell(s) to identify a possible cause of the failure. Click <a href='https://aka.ms/vscodeJupyterKernelCrash'>here</a> for more info. View Jupyter <a href='command:jupyter.viewOutput'>log</a> for further details."
     ]
    }
   ],
   "source": [
    "vidcap = cv2.VideoCapture('LaneVideo.mp4')\n",
    "success, image = vidcap.read()\n",
    "\n",
    "def nothing(x):\n",
    "    pass\n",
    "\n",
    "cv2.namedWindow(\"Trackbars\")\n",
    "\n",
    "cv2.createTrackbar(\"L - H\", \"Trackbars\", 0, 255, nothing)\n",
    "cv2.createTrackbar(\"L - S\", \"Trackbars\", 0, 255, nothing)\n",
    "cv2.createTrackbar(\"L - V\", \"Trackbars\", 200, 255, nothing)\n",
    "cv2.createTrackbar(\"U - H\", \"Trackbars\", 255, 255, nothing)\n",
    "cv2.createTrackbar(\"U - S\", \"Trackbars\", 50, 255, nothing)\n",
    "cv2.createTrackbar(\"U - V\", \"Trackbars\", 255, 255, nothing)\n",
    "\n",
    "while success:\n",
    "    success, image = vidcap.read()\n",
    "    frame = cv2.resize(image,(640,480))\n",
    "\n",
    "    ## Choosing points for perspective transformation\n",
    "    tl = (222,387)\n",
    "    bl = (70 ,472)\n",
    "    tr = (400,380)\n",
    "    br = (538,472)\n",
    "\n",
    "    cv2.circle(frame, tl, 5, (0,0,255), -1)\n",
    "    cv2.circle(frame, bl, 5, (0,0,255), -1)\n",
    "    cv2.circle(frame, tr, 5, (0,0,255), -1)\n",
    "    cv2.circle(frame, br, 5, (0,0,255), -1)\n",
    "\n",
    "    ## Aplying perspective transformation\n",
    "    pts1 = np.float32([tl, bl, tr, br]) \n",
    "    pts2 = np.float32([[0, 0], [0, 480], [640, 0], [640, 480]]) \n",
    "    \n",
    "    # Matrix to warp the image for birdseye window\n",
    "    matrix = cv2.getPerspectiveTransform(pts1, pts2) \n",
    "    transformed_frame = cv2.warpPerspective(frame, matrix, (640,480))\n",
    "\n",
    "    ### Object Detection\n",
    "    # Image Thresholding\n",
    "    hsv_transformed_frame = cv2.cvtColor(transformed_frame, cv2.COLOR_BGR2HSV)\n",
    "    \n",
    "    l_h = cv2.getTrackbarPos(\"L - H\", \"Trackbars\")\n",
    "    l_s = cv2.getTrackbarPos(\"L - S\", \"Trackbars\")\n",
    "    l_v = cv2.getTrackbarPos(\"L - V\", \"Trackbars\")\n",
    "    u_h = cv2.getTrackbarPos(\"U - H\", \"Trackbars\")\n",
    "    u_s = cv2.getTrackbarPos(\"U - S\", \"Trackbars\")\n",
    "    u_v = cv2.getTrackbarPos(\"U - V\", \"Trackbars\")\n",
    "    \n",
    "    lower = np.array([l_h,l_s,l_v])\n",
    "    upper = np.array([u_h,u_s,u_v])\n",
    "    mask = cv2.inRange(hsv_transformed_frame, lower, upper)\n"
   ]
  },
  {
   "cell_type": "code",
   "execution_count": 9,
   "metadata": {},
   "outputs": [],
   "source": [
    "def Get_lanes_bases(img):\n",
    "\n",
    "    # Get the Histogram of the bottom half of the frame captured\n",
    "    half_frame = img.shape[0] //2\n",
    "\n",
    "    crop_half_frame = img[half_frame:,:]\n",
    "    axis_Histogram = np.sum(crop_half_frame,axis = 0)\n",
    "\n",
    "    # Get where is the max values located on the x-axis\n",
    "    left_lane = np.argmax(axis_Histogram[:img.shape[1]//2])\n",
    "    right_lane = (img.shape[1]//2) + np.argmax(axis_Histogram[img.shape[1]//2:]) \n",
    "\n",
    "    return left_lane, right_lane\n"
   ]
  },
  {
   "cell_type": "code",
   "execution_count": 8,
   "metadata": {},
   "outputs": [],
   "source": [
    "def sliding_window(img, imgHeight, left_lane, right_lane, window_height, window_width):\n",
    "    \n",
    "    # Arrays to hold the lane index\n",
    "    right_lane_arr = []\n",
    "    left_lane_arr = []\n",
    "\n",
    "    left_y = []\n",
    "    right_y = []\n",
    "    \n",
    "    # Creating the window on the lanes bases\n",
    "    num_of_windows = imgHeight//window_height\n",
    "\n",
    "    # Move the window on the lane\n",
    "    for i in range(num_of_windows):\n",
    "        left_lane_win = img[imgHeight - window_height:imgHeight, left_lane - window_width/2:left_lane + window_width/2]\n",
    "        right_lane_win = img[imgHeight - window_height:imgHeight, right_lane - window_width/2:right_lane + window_width/2]\n",
    "\n",
    "        # get the white pixels in the left and right window\n",
    "        left_non_zero = np.argwhere(left_lane_win = 1)\n",
    "        right_non_zero = np.argwhere(right_lane_win = 1)\n",
    "\n",
    "        # add the index to the lane arrays\n",
    "        left_new_index = left_non_zero[:,1] + (left_lane - window_width//2)\n",
    "        right_new_index = right_non_zero[:,1] + (right_lane - window_width//2)\n",
    "\n",
    "        left_lane_arr = np.append(left_new_index)\n",
    "        right_lane_arr = np.append(right_new_index)\n",
    "\n",
    "        # Lanes Y index\n",
    "        left_y[i],right_y[i] = imgHeight - i*window_height\n",
    "\n",
    "        # update the window base\n",
    "        left_lane = np.mean(left_new_index)\n",
    "        right_lane = np.mean(right_new_index)\n",
    "\n",
    "    # Curve fitting(2nd degree poynomial) for the points from the window\n",
    "    left_curve = np.polyfit(left_y, left_lane_arr, 2)\n",
    "    right_curve = np.polyfit(right_y, right_lane_arr, 2)\n",
    "\n",
    "    return left_curve, right_curve\n"
   ]
  },
  {
   "cell_type": "code",
   "execution_count": null,
   "metadata": {},
   "outputs": [],
   "source": [
    "def get_Curvature(left_curve, right_curve):\n",
    "\n",
    "    # polynomial fitting = Ax^2 + Bx + C\n",
    "    A_left, B_left, C_left = left_curve\n",
    "    A_right, B_right, C_right = right_curve\n",
    "\n",
    "    # Radius of curvature = ((1 + (2Ax + B)**2)**(3/2)) / |2A|\n",
    "    \n",
    "\n",
    "\n",
    "    "
   ]
  }
 ],
 "metadata": {
  "kernelspec": {
   "display_name": "Python 3",
   "language": "python",
   "name": "python3"
  },
  "language_info": {
   "codemirror_mode": {
    "name": "ipython",
    "version": 3
   },
   "file_extension": ".py",
   "mimetype": "text/x-python",
   "name": "python",
   "nbconvert_exporter": "python",
   "pygments_lexer": "ipython3",
   "version": "3.11.5"
  }
 },
 "nbformat": 4,
 "nbformat_minor": 2
}
