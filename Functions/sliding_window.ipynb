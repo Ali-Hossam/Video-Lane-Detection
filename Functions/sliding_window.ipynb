{
 "cells": [
  {
   "cell_type": "code",
   "execution_count": 7,
   "metadata": {},
   "outputs": [],
   "source": [
    "from skimage.color import rgb2gray\n",
    "import skimage.io as io\n",
    "import numpy as np\n",
    "import cv2 as cv2\n"
   ]
  },
  {
   "cell_type": "code",
   "execution_count": 9,
   "metadata": {},
   "outputs": [],
   "source": [
    "def Get_lanes_bases(img):\n",
    "\n",
    "    # Get the Histogram of the bottom half of the frame captured\n",
    "    half_frame = img.shape[0] //2\n",
    "\n",
    "    crop_half_frame = img[half_frame:,:]\n",
    "    axis_Histogram = np.sum(crop_half_frame,axis = 0)\n",
    "\n",
    "    # Get where is the max values located on the x-axis\n",
    "    left_lane = np.argmax(axis_Histogram[:img.shape[1]//2])\n",
    "    right_lane = (img.shape[1]//2) + np.argmax(axis_Histogram[img.shape[1]//2:]) \n",
    "\n",
    "    return left_lane, right_lane\n"
   ]
  },
  {
   "cell_type": "code",
   "execution_count": 8,
   "metadata": {},
   "outputs": [],
   "source": [
    "def sliding_window(img, imgHeight, left_lane, right_lane, window_height, window_width):\n",
    "    \n",
    "    # Arrays to hold the lane index\n",
    "    right_lane_arr = []\n",
    "    left_lane_arr = []\n",
    "\n",
    "    left_y = []\n",
    "    right_y = []\n",
    "    \n",
    "    # Creating the window on the lanes bases\n",
    "    num_of_windows = imgHeight//window_height\n",
    "\n",
    "    # Move the window on the lane\n",
    "    for i in range(num_of_windows):\n",
    "        left_lane_win = img[imgHeight - window_height:imgHeight, left_lane - window_width/2:left_lane + window_width/2]\n",
    "        right_lane_win = img[imgHeight - window_height:imgHeight, right_lane - window_width/2:right_lane + window_width/2]\n",
    "\n",
    "        # get the white pixels in the left and right window\n",
    "        left_non_zero = np.argwhere(left_lane_win = 1)\n",
    "        right_non_zero = np.argwhere(right_lane_win = 1)\n",
    "\n",
    "        # add the index to the lane arrays\n",
    "        left_new_index = left_non_zero[:,1] + (left_lane - window_width//2)\n",
    "        right_new_index = right_non_zero[:,1] + (right_lane - window_width//2)\n",
    "\n",
    "        left_lane_arr = np.append(left_new_index)\n",
    "        right_lane_arr = np.append(right_new_index)\n",
    "\n",
    "        # Lanes Y index\n",
    "        left_y[i],right_y[i] = imgHeight - i*window_height\n",
    "\n",
    "        # update the window base\n",
    "        left_lane = np.mean(left_new_index)\n",
    "        right_lane = np.mean(right_new_index)\n",
    "    # meter to pixel \n",
    "    meter_pixel = 30 / 720     # Assume 30 meters in 720 pixels\n",
    "\n",
    "    # Curve fitting(2nd degree poynomial) for the points from the window\n",
    "    left_curve = np.polyfit(left_y*meter_pixel, left_lane_arr, 2)\n",
    "    right_curve = np.polyfit(right_y*meter_pixel, right_lane_arr, 2)\n",
    "\n",
    "    return left_curve, right_curve\n"
   ]
  },
  {
   "cell_type": "code",
   "execution_count": null,
   "metadata": {},
   "outputs": [],
   "source": [
    "def get_Curvature(left_curve, right_curve, y_value, meter_pixel = 30/720):\n",
    "\n",
    "    # polynomial fitting = Ax^2 + Bx + C\n",
    "    A_left, B_left, C_left = left_curve\n",
    "    A_right, B_right, C_right = right_curve\n",
    "\n",
    "    # If A = -ve , then the direction of curvature is at the left & vice-versa\n",
    "    if A_left and A_right > 0:\n",
    "        direction = 'right'\n",
    "    elif A_left and A_right < 0:\n",
    "        direction = 'left'\n",
    "    else:\n",
    "        direction = 'straight'\n",
    "    # Radius of curvature = ((1 + (2Ax + B)**2)**(3/2)) / |2A|\n",
    "    L_curvature = ((1 + (2 * A_left * y_value * meter_pixel + B_left)**2)**1.5) / np.abs(2 * A_left)\n",
    "    R_curvature = ((1 + (2 * A_right * y_value * meter_pixel + B_right)**2)**1.5) / np.abs(2 * A_right)\n",
    "\n",
    "    return direction, L_curvature, R_curvature\n",
    "    \n",
    "\n",
    "\n",
    "    "
   ]
  }
 ],
 "metadata": {
  "kernelspec": {
   "display_name": "Python 3 (ipykernel)",
   "language": "python",
   "name": "python3"
  },
  "language_info": {
   "codemirror_mode": {
    "name": "ipython",
    "version": 3
   },
   "file_extension": ".py",
   "mimetype": "text/x-python",
   "name": "python",
   "nbconvert_exporter": "python",
   "pygments_lexer": "ipython3",
   "version": "3.9.6"
  }
 },
 "nbformat": 4,
 "nbformat_minor": 4
}
