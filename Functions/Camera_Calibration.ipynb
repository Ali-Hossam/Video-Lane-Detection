{
 "cells": [
  {
   "cell_type": "code",
   "execution_count": 5,
   "metadata": {},
   "outputs": [],
   "source": [
    "import os\n",
    "import cv2\n",
    "import numpy as np\n",
    "import random\n",
    "import matplotlib.pyplot as plt\n",
    "# camera calibration\n",
    "CHESS_NX = 9\n",
    "CHESS_NY = 6\n",
    "\n",
    "TEST_DIR = 'images'\n",
    "CALIBRATION_DIR = 'camera_cal'\n",
    "\n",
    "OUTPUT_DIR_CALIBRATION = 'output_images/calibration'"
   ]
  },
  {
   "cell_type": "code",
   "execution_count": 2,
   "metadata": {},
   "outputs": [],
   "source": [
    "# define camera calibration\n",
    "\n",
    "def calibrateCamera():\n",
    "    # use chessboard photos to calibrate camera\n",
    "\n",
    "    # set termination criteria (for use with cv2.cornerSubPix)\n",
    "    criteria = (cv2.TERM_CRITERIA_EPS + cv2.TERM_CRITERIA_MAX_ITER, 30, 0.001)\n",
    "\n",
    "    # make object points\n",
    "    objp = np.zeros((CHESS_NX*CHESS_NY,3), np.float32)\n",
    "    objp[:,:2] = np.mgrid[0:CHESS_NX,0:CHESS_NY].T.reshape(-1,2)\n",
    "    imagePoints = []\n",
    "    objectPoints = []\n",
    "\n",
    "    # loop through calibration images\n",
    "    for imageFile in os.listdir(CALIBRATION_DIR):\n",
    "        if imageFile.endswith('.jpg'):\n",
    "\n",
    "            # read image, grayscale, find corners\n",
    "            im = cv2.imread(os.path.join(CALIBRATION_DIR,imageFile))\n",
    "            gray = cv2.cvtColor(im,cv2.COLOR_RGB2GRAY)\n",
    "            found, corners = cv2.findChessboardCorners(gray,(CHESS_NX,CHESS_NY),None)\n",
    "\n",
    "            if found:\n",
    "                # draw corners on image\n",
    "                cv2.drawChessboardCorners(im,(CHESS_NX,CHESS_NY),corners,found)\n",
    "                # find corners with higher (sub-pixel) precision\n",
    "                corners2 = cv2.cornerSubPix(gray,corners,(5,5),(-1,-1),criteria)\n",
    "                imagePoints.append(corners2)\n",
    "                objectPoints.append(objp)\n",
    "\n",
    "                # save image with corners marked\n",
    "                cv2.imwrite(os.path.join(OUTPUT_DIR_CALIBRATION,imageFile),im)\n",
    "\n",
    "    # do the actual calibration and save\n",
    "    ret, mtx, dst, rvecs, tvecs = cv2.calibrateCamera(objectPoints,imagePoints,gray.shape[::-1],None,None)\n",
    "    imSize = im.shape\n",
    "    calibrationData = {'cam_matrix':mtx, 'dist_coeffs':dst, 'im_size':imSize}\n",
    "\n",
    "\n",
    "    return mtx,dst"
   ]
  },
  {
   "cell_type": "code",
   "execution_count": 3,
   "metadata": {},
   "outputs": [
    {
     "name": "stdout",
     "output_type": "stream",
     "text": [
      "Calibrating camera...\n"
     ]
    },
    {
     "ename": "FileNotFoundError",
     "evalue": "[WinError 3] The system cannot find the path specified: 'camera_cal'",
     "output_type": "error",
     "traceback": [
      "\u001b[1;31m---------------------------------------------------------------------------\u001b[0m",
      "\u001b[1;31mFileNotFoundError\u001b[0m                         Traceback (most recent call last)",
      "Cell \u001b[1;32mIn[3], line 4\u001b[0m\n\u001b[0;32m      1\u001b[0m \u001b[38;5;66;03m# do camera calibration and display example images\u001b[39;00m\n\u001b[0;32m      3\u001b[0m \u001b[38;5;28mprint\u001b[39m(\u001b[38;5;124m\"\u001b[39m\u001b[38;5;124mCalibrating camera...\u001b[39m\u001b[38;5;124m\"\u001b[39m)\n\u001b[1;32m----> 4\u001b[0m mtx,dst \u001b[38;5;241m=\u001b[39m calibrateCamera()\n\u001b[0;32m      5\u001b[0m filenameList \u001b[38;5;241m=\u001b[39m [fn \u001b[38;5;28;01mfor\u001b[39;00m fn \u001b[38;5;129;01min\u001b[39;00m os\u001b[38;5;241m.\u001b[39mlistdir(CALIBRATION_DIR) \u001b[38;5;28;01mif\u001b[39;00m fn\u001b[38;5;241m.\u001b[39mendswith(\u001b[38;5;124m'\u001b[39m\u001b[38;5;124m.jpg\u001b[39m\u001b[38;5;124m'\u001b[39m)]\n\u001b[0;32m      6\u001b[0m fn \u001b[38;5;241m=\u001b[39m random\u001b[38;5;241m.\u001b[39mchoice(filenameList)\n",
      "Cell \u001b[1;32mIn[2], line 16\u001b[0m, in \u001b[0;36mcalibrateCamera\u001b[1;34m()\u001b[0m\n\u001b[0;32m     13\u001b[0m objectPoints \u001b[38;5;241m=\u001b[39m []\n\u001b[0;32m     15\u001b[0m \u001b[38;5;66;03m# loop through calibration images\u001b[39;00m\n\u001b[1;32m---> 16\u001b[0m \u001b[38;5;28;01mfor\u001b[39;00m imageFile \u001b[38;5;129;01min\u001b[39;00m os\u001b[38;5;241m.\u001b[39mlistdir(CALIBRATION_DIR):\n\u001b[0;32m     17\u001b[0m     \u001b[38;5;28;01mif\u001b[39;00m imageFile\u001b[38;5;241m.\u001b[39mendswith(\u001b[38;5;124m'\u001b[39m\u001b[38;5;124m.jpg\u001b[39m\u001b[38;5;124m'\u001b[39m):\n\u001b[0;32m     18\u001b[0m \n\u001b[0;32m     19\u001b[0m         \u001b[38;5;66;03m# read image, grayscale, find corners\u001b[39;00m\n\u001b[0;32m     20\u001b[0m         im \u001b[38;5;241m=\u001b[39m cv2\u001b[38;5;241m.\u001b[39mimread(os\u001b[38;5;241m.\u001b[39mpath\u001b[38;5;241m.\u001b[39mjoin(CALIBRATION_DIR,imageFile))\n",
      "\u001b[1;31mFileNotFoundError\u001b[0m: [WinError 3] The system cannot find the path specified: 'camera_cal'"
     ]
    }
   ],
   "source": [
    "# do camera calibration and display example images\n",
    "\n",
    "print(\"Calibrating camera...\")\n",
    "mtx,dst = calibrateCamera()\n",
    "filenameList = [fn for fn in os.listdir(CALIBRATION_DIR) if fn.endswith('.jpg')]\n",
    "fn = random.choice(filenameList)\n",
    "imOriginal = cv2.imread(os.path.join(CALIBRATION_DIR,fn))\n",
    "imCorners = cv2.imread(os.path.join(OUTPUT_DIR_CALIBRATION,fn))\n",
    "\n",
    "f = plt.figure(figsize=(30,40))\n",
    "ax = f.add_subplot(1,2,1)\n",
    "ax.imshow(imOriginal)\n",
    "ax = f.add_subplot(1,2,2)\n",
    "ax.imshow(imCorners)\n",
    "plt.show()\n"
   ]
  },
  {
   "cell_type": "code",
   "execution_count": 4,
   "metadata": {},
   "outputs": [
    {
     "name": "stdout",
     "output_type": "stream",
     "text": [
      "Undistorting image...\n"
     ]
    },
    {
     "ename": "error",
     "evalue": "OpenCV(4.8.1) D:\\a\\opencv-python\\opencv-python\\opencv\\modules\\imgproc\\src\\color.cpp:182: error: (-215:Assertion failed) !_src.empty() in function 'cv::cvtColor'\n",
     "output_type": "error",
     "traceback": [
      "\u001b[1;31m---------------------------------------------------------------------------\u001b[0m",
      "\u001b[1;31merror\u001b[0m                                     Traceback (most recent call last)",
      "Cell \u001b[1;32mIn[4], line 6\u001b[0m\n\u001b[0;32m      4\u001b[0m fn \u001b[38;5;241m=\u001b[39m os\u001b[38;5;241m.\u001b[39mpath\u001b[38;5;241m.\u001b[39mjoin(CALIBRATION_DIR,\u001b[38;5;124m'\u001b[39m\u001b[38;5;124mcalibration1.jpg\u001b[39m\u001b[38;5;124m'\u001b[39m)\n\u001b[0;32m      5\u001b[0m imCB \u001b[38;5;241m=\u001b[39m cv2\u001b[38;5;241m.\u001b[39mimread(fn)\n\u001b[1;32m----> 6\u001b[0m imCB \u001b[38;5;241m=\u001b[39m cv2\u001b[38;5;241m.\u001b[39mcvtColor(imCB,cv2\u001b[38;5;241m.\u001b[39mCOLOR_BGR2RGB)\n\u001b[0;32m      7\u001b[0m imCBUndistorted \u001b[38;5;241m=\u001b[39m cv2\u001b[38;5;241m.\u001b[39mundistort(imCB,mtx,dst)\n\u001b[0;32m      8\u001b[0m f2 \u001b[38;5;241m=\u001b[39m plt\u001b[38;5;241m.\u001b[39mfigure(figsize\u001b[38;5;241m=\u001b[39m(\u001b[38;5;241m30\u001b[39m,\u001b[38;5;241m40\u001b[39m))\n",
      "\u001b[1;31merror\u001b[0m: OpenCV(4.8.1) D:\\a\\opencv-python\\opencv-python\\opencv\\modules\\imgproc\\src\\color.cpp:182: error: (-215:Assertion failed) !_src.empty() in function 'cv::cvtColor'\n"
     ]
    }
   ],
   "source": [
    "# display undistorted image example\n",
    "\n",
    "print(\"Undistorting image...\")\n",
    "fn = os.path.join(CALIBRATION_DIR,'calibration1.jpg')\n",
    "imCB = cv2.imread(fn)\n",
    "imCB = cv2.cvtColor(imCB,cv2.COLOR_BGR2RGB)\n",
    "imCBUndistorted = cv2.undistort(imCB,mtx,dst)\n",
    "f2 = plt.figure(figsize=(30,40))\n",
    "ax = f2.add_subplot(1,2,1)\n",
    "ax.imshow(imCB)\n",
    "ax = f2.add_subplot(1,2,2)\n",
    "ax.imshow(imCBUndistorted)\n",
    "plt.show()\n",
    "\n",
    "filenameList = [fn for fn in os.listdir(TEST_DIR) if fn.endswith('.jpg')]\n",
    "fn = random.choice(filenameList)\n",
    "imOriginal = cv2.imread(os.path.join(TEST_DIR,fn))\n",
    "imOriginalRGB = cv2.cvtColor(imOriginal,cv2.COLOR_BGR2RGB)\n",
    "imUndistorted = cv2.undistort(imOriginalRGB,mtx,dst)\n",
    "f3 = plt.figure(figsize=(30,40))\n",
    "ax = f3.add_subplot(1,2,1)\n",
    "ax.imshow(imOriginalRGB)\n",
    "ax = f3.add_subplot(1,2,2)\n",
    "ax.imshow(imUndistorted)\n",
    "plt.show()"
   ]
  }
 ],
 "metadata": {
  "kernelspec": {
   "display_name": "base",
   "language": "python",
   "name": "python3"
  },
  "language_info": {
   "codemirror_mode": {
    "name": "ipython",
    "version": 3
   },
   "file_extension": ".py",
   "mimetype": "text/x-python",
   "name": "python",
   "nbconvert_exporter": "python",
   "pygments_lexer": "ipython3",
   "version": "3.11.5"
  }
 },
 "nbformat": 4,
 "nbformat_minor": 2
}
