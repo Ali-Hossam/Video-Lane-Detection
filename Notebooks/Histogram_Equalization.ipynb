{
 "cells": [
  {
   "cell_type": "code",
   "execution_count": 1,
   "metadata": {},
   "outputs": [],
   "source": [
    "from skimage import io\n",
    "import numpy as np\n",
    "\n",
    "def histogram_equalization(image_path):\n",
    "    # Load image using io.imread()\n",
    "    img = io.imread(image_path)\n",
    "\n",
    "    # Compute histogram\n",
    "    hist, bins = np.histogram(img.flatten(), bins=256, range=[0, 256])\n",
    "\n",
    "    # Compute cumulative distribution function (CDF)\n",
    "    cdf = hist.cumsum()\n",
    "    cdf_normalized = cdf * hist.max() / cdf.max()\n",
    "\n",
    "    # Perform histogram equalization\n",
    "    equalized_img = np.interp(img.flatten(), bins[:-1], cdf_normalized).reshape(img.shape)\n",
    "\n",
    "    return equalized_img\n",
    "\n"
   ]
  }
 ],
 "metadata": {
  "kernelspec": {
   "display_name": "base",
   "language": "python",
   "name": "python3"
  },
  "language_info": {
   "codemirror_mode": {
    "name": "ipython",
    "version": 3
   },
   "file_extension": ".py",
   "mimetype": "text/x-python",
   "name": "python",
   "nbconvert_exporter": "python",
   "pygments_lexer": "ipython3",
   "version": "3.11.5"
  }
 },
 "nbformat": 4,
 "nbformat_minor": 2
}
