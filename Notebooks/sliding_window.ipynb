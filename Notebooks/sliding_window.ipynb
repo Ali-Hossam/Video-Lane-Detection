{
 "cells": [
  {
   "cell_type": "markdown",
   "metadata": {},
   "source": [
    "In this notebook we try to implement the sliding window algorithm.\n"
   ]
  },
  {
   "cell_type": "markdown",
   "metadata": {},
   "source": [
    "## Sliding window algorithm steps\n",
    "1. Take the bottom half of the image\n",
    "2. Get number of white pixels (y == 1) at each x value of the image\n",
    "3. Get two x values at the left and the right of the image with the highest histogram values\n",
    "4. Make two windows at the past two points\n",
    "5. Get white pixels (x, y) in each window and add them to a list\n",
    "6. Move the window up and change it's center to be the mean of previous window white pixels\n",
    "7. Repeat steps 5 - 6 untill u reach the image max height"
   ]
  },
  {
   "cell_type": "code",
   "execution_count": 1,
   "metadata": {},
   "outputs": [],
   "source": [
    "from skimage.color import rgb2gray, rgba2rgb\n",
    "import matplotlib.pyplot as plt\n",
    "import skimage.io as io\n",
    "import numpy as np\n",
    "import cv2 as cv2"
   ]
  },
  {
   "cell_type": "code",
   "execution_count": 2,
   "metadata": {},
   "outputs": [],
   "source": [
    "fig = rgb2gray(rgba2rgb(io.imread(\"../images/lane.png\")))\n",
    "fig = np.where(fig > 0.88, 1, 0)\n",
    "H, W = fig.shape"
   ]
  },
  {
   "cell_type": "code",
   "execution_count": 3,
   "metadata": {},
   "outputs": [
    {
     "name": "stderr",
     "output_type": "stream",
     "text": [
      "c:\\Users\\Ali\\AppData\\Local\\Programs\\Python\\Python39\\lib\\site-packages\\skimage\\io\\_plugins\\matplotlib_plugin.py:149: UserWarning: Low image data range; displaying image with stretched contrast.\n",
      "  lo, hi, cmap = _get_display_range(image)\n"
     ]
    },
    {
     "data": {
      "image/png": "[encoded data removed]",
      "text/plain": [
       "<Figure size 432x288 with 2 Axes>"
      ]
     },
     "metadata": {
      "needs_background": "light"
     },
     "output_type": "display_data"
    }
   ],
   "source": [
    "io.imshow(fig, cmap='gray')\n",
    "plt.show()"
   ]
  },
  {
   "cell_type": "code",
   "execution_count": 4,
   "metadata": {},
   "outputs": [],
   "source": [
    "def get_lanes_starting_points(img, returnHist=False):\n",
    "\n",
    "    # Get the Histogram of the bottom half of the frame captured\n",
    "    half_frame = img.shape[0] //2\n",
    "\n",
    "    crop_half_frame = img[half_frame:, :]\n",
    "    axis_Histogram = np.sum(crop_half_frame, axis = 0)\n",
    "    midpoint = int(axis_Histogram.shape[0] / 2)\n",
    "    \n",
    "    # Get where is the max values located on the x-axis\n",
    "    left_lane_x = np.argmax(axis_Histogram[:midpoint])\n",
    "    right_lane_x = np.argmax(axis_Histogram[midpoint:]) + midpoint\n",
    "    \n",
    "    if returnHist:\n",
    "        return left_lane_x, right_lane_x, axis_Histogram\n",
    "    else:\n",
    "        return left_lane_x, right_lane_x"
   ]
  },
  {
   "cell_type": "code",
   "execution_count": 5,
   "metadata": {},
   "outputs": [],
   "source": [
    "left_x, right_x, hist = get_lanes_starting_points(fig, True)"
   ]
  },
  {
   "cell_type": "code",
   "execution_count": 6,
   "metadata": {},
   "outputs": [
    {
     "data": {
      "image/png": "[encoded data removed]",
      "text/plain": [
       "<Figure size 432x288 with 1 Axes>"
      ]
     },
     "metadata": {
      "needs_background": "light"
     },
     "output_type": "display_data"
    }
   ],
   "source": [
    "plt.imshow(fig, cmap='gray')\n",
    "plt.plot(range(W), (H - 1 -  hist), color='red')  # H - 1- hist to make the plot at the bottom of the image\n",
    "plt.scatter([left_x, right_x], [230, 230], color='yellow')\n",
    "plt.show()"
   ]
  },
  {
   "cell_type": "code",
   "execution_count": 7,
   "metadata": {},
   "outputs": [],
   "source": [
    "def sliding_window(img, imgHeight, left_lane_x, right_lane_x, window_height, window_width):\n",
    "    \n",
    "    # Arrays to hold the lane index\n",
    "    left_lane_list = np.empty((0, 2))\n",
    "    right_lane_list = np.empty((0, 2))\n",
    "    \n",
    "    # Creating the window on the lanes bases\n",
    "    num_of_windows = imgHeight // window_height\n",
    "    plt.imshow(img, cmap='gray')\n",
    "    \n",
    "    # Move the window on the lane\n",
    "    for i in range(num_of_windows):\n",
    "        y_start = imgHeight - window_height * (i + 1)\n",
    "        y_end = imgHeight - window_height * i\n",
    "        \n",
    "        x_start_left = left_lane_x - window_width//2\n",
    "        x_end_left = left_lane_x + window_width//2\n",
    "        \n",
    "        x_start_right = right_lane_x - window_width//2\n",
    "        x_end_right = right_lane_x + window_width//2\n",
    "                \n",
    "        left_lane_win = img[y_start : y_end, x_start_left : x_end_left]\n",
    "        right_lane_win = img[y_start : y_end, x_start_right : x_end_right]\n",
    "\n",
    "        # get the white pixels in the left and right window\n",
    "        left_white_pxls = np.argwhere(left_lane_win == 1)\n",
    "        right_white_pxls = np.argwhere(right_lane_win == 1)\n",
    "\n",
    "        # move from window coordinates to image coordinates\n",
    "        left_white_pxls[:, 1] += (left_lane_x - window_width//2)\n",
    "        left_white_pxls[:, 0] += y_start\n",
    "        right_white_pxls[:,1] += (right_lane_x - window_width//2)\n",
    "        right_white_pxls[:, 0] += y_start\n",
    "\n",
    "        left_lane_list = np.vstack((left_lane_list, left_white_pxls))    \n",
    "        right_lane_list = np.vstack((right_lane_list, right_white_pxls))    \n",
    "\n",
    "        # update the window base\n",
    "        if(len(left_white_pxls)):\n",
    "            left_lane_x = int(np.mean(left_white_pxls[:, 1]))\n",
    "        if(len(right_white_pxls)):\n",
    "            right_lane_x = int(np.mean(right_white_pxls[:, 1]))\n",
    "        \n",
    "        plt.plot([x_start_left, x_start_left, x_end_left, x_end_left, x_start_left], \n",
    "                 [y_start, y_end - 1, y_end - 1, y_start, y_start], color='red')\n",
    "        \n",
    "        plt.plot([x_start_right, x_start_right, x_end_right, x_end_right, x_start_right], \n",
    "                 [y_start, y_end - 1, y_end - 1, y_start, y_start], color='red')\n",
    "        \n",
    "\n",
    "    # meter to pixel \n",
    "    meter_pixel = 30 / 720     # Assume 30 meters in 720 pixels\n",
    "\n",
    "    # Curve fitting(2nd degree poynomial) for the points from the window\n",
    "    left_curve_coeff = np.polyfit(left_lane_list[:, 0], left_lane_list[:, 1], 2)\n",
    "    right_curve_coeff = np.polyfit(right_lane_list[:, 0], right_lane_list[:, 1], 2)\n",
    "\n",
    "    return left_curve_coeff, right_curve_coeff\n",
    "    "
   ]
  },
  {
   "cell_type": "code",
   "execution_count": 8,
   "metadata": {},
   "outputs": [
    {
     "name": "stdout",
     "output_type": "stream",
     "text": [
      "Wall time: 31.9 ms\n"
     ]
    },
    {
     "data": {
      "image/png": "[encoded data removed]",
      "text/plain": [
       "<Figure size 432x288 with 1 Axes>"
      ]
     },
     "metadata": {
      "needs_background": "light"
     },
     "output_type": "display_data"
    }
   ],
   "source": [
    "%time left_curve_coeff, right_curve_coeff = sliding_window(fig, H, left_x, right_x, 30, 30)"
   ]
  },
  {
   "cell_type": "code",
   "execution_count": 9,
   "metadata": {},
   "outputs": [],
   "source": [
    "def generate_polynomial_values(coefficients, x_max):\n",
    "    \"\"\"\n",
    "    Generate x and y values for a polynomial defined by its coefficients.\n",
    "\n",
    "    Arguments:\n",
    "    coefficients : array_like\n",
    "        Coefficients of the polynomial.\n",
    "    x_max : float\n",
    "        Maximum value of x for generating values.\n",
    "\n",
    "    Returns:\n",
    "    x : ndarray\n",
    "        Array of x values.\n",
    "    y : ndarray\n",
    "        Corresponding array of y values calculated from the polynomial function.\n",
    "    \"\"\"\n",
    "    poly_function = np.poly1d(coefficients)\n",
    "    \n",
    "    # generate points from 0 to x max\n",
    "    x = np.linspace(0, x_max, 100)\n",
    "    \n",
    "    # get corresponding y value\n",
    "    y = poly_function(x)\n",
    "    \n",
    "    return x, y\n"
   ]
  },
  {
   "cell_type": "code",
   "execution_count": 10,
   "metadata": {},
   "outputs": [],
   "source": [
    "x_left, y_left = generate_polynomial_values(left_curve_coeff, H - 1)\n",
    "x_right, y_right = generate_polynomial_values(right_curve_coeff, H - 1)"
   ]
  },
  {
   "cell_type": "code",
   "execution_count": 11,
   "metadata": {},
   "outputs": [
    {
     "data": {
      "image/png": "[encoded data removed]",
      "text/plain": [
       "<Figure size 432x288 with 1 Axes>"
      ]
     },
     "metadata": {
      "needs_background": "light"
     },
     "output_type": "display_data"
    }
   ],
   "source": [
    "plt.imshow(fig, cmap='gray')\n",
    "plt.plot(y_left, x_left)\n",
    "plt.plot(y_right, x_right)\n",
    "plt.show()"
   ]
  },
  {
   "cell_type": "code",
   "execution_count": 12,
   "metadata": {},
   "outputs": [],
   "source": [
    "def calculate_curvature(a, b, x):\n",
    "    numerator = np.abs(2 * a)\n",
    "    denominator = (1 + (2 * a * x + b)**2) ** (3/2)\n",
    "    curvature = numerator / denominator\n",
    "    return curvature"
   ]
  },
  {
   "cell_type": "code",
   "execution_count": 13,
   "metadata": {},
   "outputs": [],
   "source": [
    "def get_road_data(left_curve, right_curve, y_value):\n",
    "\n",
    "    # polynomial fitting = Ax^2 + Bx + C\n",
    "    a_left, b_left, _ = left_curve\n",
    "    a_right, b_right, _ = right_curve\n",
    "\n",
    "    # Radius of curvature = ((1 + (2Ax + B)**2)**(3/2)) / |2A|\n",
    "    L_curvature = calculate_curvature(a_left, b_left, y_value)\n",
    "    R_curvature = calculate_curvature(a_right, b_right, y_value)\n",
    "    \n",
    "    # If A = -ve , then the direction of curvature is at the left & vice-versa\n",
    "    if min(L_curvature, R_curvature) > 1e-5:\n",
    "        direction = 'right'\n",
    "    elif min(L_curvature, R_curvature) < -1e-5:\n",
    "        direction = 'left'\n",
    "    else:\n",
    "        direction = 'straight'\n",
    "        \n",
    "    return direction, L_curvature, R_curvature\n"
   ]
  },
  {
   "cell_type": "code",
   "execution_count": 15,
   "metadata": {},
   "outputs": [
    {
     "data": {
      "text/plain": [
       "('right', 0.0003481775815554424, 0.0007533080141668611)"
      ]
     },
     "execution_count": 15,
     "metadata": {},
     "output_type": "execute_result"
    }
   ],
   "source": [
    "get_road_data(left_curve_coeff, right_curve_coeff, H//2)"
   ]
  },
  {
   "cell_type": "markdown",
   "metadata": {},
   "source": [
    "# Done!"
   ]
  }
 ],
 "metadata": {
  "kernelspec": {
   "display_name": "Python 3 (ipykernel)",
   "language": "python",
   "name": "python3"
  },
  "language_info": {
   "codemirror_mode": {
    "name": "ipython",
    "version": 3
   },
   "file_extension": ".py",
   "mimetype": "text/x-python",
   "name": "python",
   "nbconvert_exporter": "python",
   "pygments_lexer": "ipython3",
   "version": "3.9.6"
  }
 },
 "nbformat": 4,
 "nbformat_minor": 4
}
